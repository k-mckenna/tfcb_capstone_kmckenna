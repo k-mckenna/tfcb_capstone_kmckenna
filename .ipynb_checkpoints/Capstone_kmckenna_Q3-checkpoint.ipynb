{
 "cells": [
  {
   "cell_type": "markdown",
   "metadata": {},
   "source": [
    "# This is my phython notebook for the capstone project. "
   ]
  },
  {
   "cell_type": "markdown",
   "metadata": {},
   "source": [
    "Question 3: Which 5 IHC markers are most differentially expressed by the Immunohistochemical clusters and can they help to identify/diagnose certain clusters?\n",
    "\n"
   ]
  },
  {
   "cell_type": "code",
   "execution_count": 93,
   "metadata": {},
   "outputs": [
    {
     "data": {
      "text/plain": [
       "'/Users/mckenna/Desktop/TFCB/tfcb_capstone_kmckenna/data/kmckenna_clustered_num.csv'"
      ]
     },
     "execution_count": 93,
     "metadata": {},
     "output_type": "execute_result"
    }
   ],
   "source": [
    "import os\n",
    "os.path.abspath(\"data/kmckenna_clustered_num.csv\")"
   ]
  },
  {
   "cell_type": "code",
   "execution_count": 94,
   "metadata": {},
   "outputs": [
    {
     "name": "stdout",
     "output_type": "stream",
     "text": [
      "<class 'pandas.core.frame.DataFrame'>\n",
      "RangeIndex: 409 entries, 0 to 408\n",
      "Data columns (total 8 columns):\n",
      " #   Column     Non-Null Count  Dtype  \n",
      "---  ------     --------------  -----  \n",
      " 0   ck7        409 non-null    float64\n",
      " 1   muc1       409 non-null    float64\n",
      " 2   muc2       409 non-null    float64\n",
      " 3   ca19_9     409 non-null    float64\n",
      " 4   smad4      409 non-null    float64\n",
      " 5   clin_diag  409 non-null    object \n",
      " 6   cluster    409 non-null    object \n",
      " 7   pad        409 non-null    object \n",
      "dtypes: float64(5), object(3)\n",
      "memory usage: 25.7+ KB\n",
      "There are 8 columns and 409 rows and 2 dimensions\n"
     ]
    }
   ],
   "source": [
    "%matplotlib inline\n",
    "import matplotlib.pyplot as plt # for plotting\n",
    "import pandas as pd # pandas\n",
    "import numpy as np\n",
    "\n",
    "\n",
    "datafile = '/Users/mckenna/Desktop/TFCB/tfcb_capstone_kmckenna/data/kmckenna_clustered_num.csv'\n",
    "\n",
    "df = pd.read_csv(datafile) \n",
    "\n",
    "df.info()\n",
    "df\n",
    "print(f\"There are {len(df.columns)} columns and {len(df.index)} rows and {df.ndim} dimensions\")\n"
   ]
  },
  {
   "cell_type": "code",
   "execution_count": 44,
   "metadata": {},
   "outputs": [
    {
     "name": "stdout",
     "output_type": "stream",
     "text": [
      "<pandas.core.groupby.generic.DataFrameGroupBy object at 0x7fa856c14d30>\n",
      "extrahepatic pancreatobiliary      199\n",
      "intrahepatic cholangiocarcinoma     82\n",
      "hepatocellular carcinoma            68\n",
      "unclassified                        36\n",
      "intestinal                          24\n",
      "Name: cluster, dtype: int64\n"
     ]
    }
   ],
   "source": [
    "#counted the number of samples in different clusters\n",
    "value_df = df['cluster'].value_counts()\n",
    "print(value_df)"
   ]
  },
  {
   "cell_type": "code",
   "execution_count": 61,
   "metadata": {},
   "outputs": [
    {
     "data": {
      "text/html": [
       "<div>\n",
       "<style scoped>\n",
       "    .dataframe tbody tr th:only-of-type {\n",
       "        vertical-align: middle;\n",
       "    }\n",
       "\n",
       "    .dataframe tbody tr th {\n",
       "        vertical-align: top;\n",
       "    }\n",
       "\n",
       "    .dataframe thead th {\n",
       "        text-align: right;\n",
       "    }\n",
       "</style>\n",
       "<table border=\"1\" class=\"dataframe\">\n",
       "  <thead>\n",
       "    <tr style=\"text-align: right;\">\n",
       "      <th></th>\n",
       "      <th>ck7</th>\n",
       "      <th>muc1</th>\n",
       "      <th>muc2</th>\n",
       "      <th>ca19_9</th>\n",
       "      <th>smad4</th>\n",
       "      <th>cluster</th>\n",
       "    </tr>\n",
       "  </thead>\n",
       "  <tbody>\n",
       "    <tr>\n",
       "      <th>0</th>\n",
       "      <td>92.5</td>\n",
       "      <td>20.0</td>\n",
       "      <td>0.0</td>\n",
       "      <td>92.5</td>\n",
       "      <td>80.000000</td>\n",
       "      <td>extrahepatic pancreatobiliary</td>\n",
       "    </tr>\n",
       "    <tr>\n",
       "      <th>1</th>\n",
       "      <td>92.5</td>\n",
       "      <td>37.5</td>\n",
       "      <td>6.0</td>\n",
       "      <td>92.5</td>\n",
       "      <td>60.000000</td>\n",
       "      <td>extrahepatic pancreatobiliary</td>\n",
       "    </tr>\n",
       "    <tr>\n",
       "      <th>2</th>\n",
       "      <td>5.0</td>\n",
       "      <td>30.0</td>\n",
       "      <td>0.0</td>\n",
       "      <td>92.5</td>\n",
       "      <td>95.000000</td>\n",
       "      <td>extrahepatic pancreatobiliary</td>\n",
       "    </tr>\n",
       "    <tr>\n",
       "      <th>3</th>\n",
       "      <td>70.0</td>\n",
       "      <td>92.5</td>\n",
       "      <td>20.0</td>\n",
       "      <td>92.5</td>\n",
       "      <td>85.000000</td>\n",
       "      <td>extrahepatic pancreatobiliary</td>\n",
       "    </tr>\n",
       "    <tr>\n",
       "      <th>4</th>\n",
       "      <td>92.5</td>\n",
       "      <td>70.0</td>\n",
       "      <td>0.0</td>\n",
       "      <td>92.5</td>\n",
       "      <td>85.000000</td>\n",
       "      <td>extrahepatic pancreatobiliary</td>\n",
       "    </tr>\n",
       "    <tr>\n",
       "      <th>...</th>\n",
       "      <td>...</td>\n",
       "      <td>...</td>\n",
       "      <td>...</td>\n",
       "      <td>...</td>\n",
       "      <td>...</td>\n",
       "      <td>...</td>\n",
       "    </tr>\n",
       "    <tr>\n",
       "      <th>404</th>\n",
       "      <td>40.0</td>\n",
       "      <td>15.0</td>\n",
       "      <td>0.0</td>\n",
       "      <td>80.0</td>\n",
       "      <td>85.000000</td>\n",
       "      <td>unclassified</td>\n",
       "    </tr>\n",
       "    <tr>\n",
       "      <th>405</th>\n",
       "      <td>92.5</td>\n",
       "      <td>92.5</td>\n",
       "      <td>0.0</td>\n",
       "      <td>20.0</td>\n",
       "      <td>0.000000</td>\n",
       "      <td>unclassified</td>\n",
       "    </tr>\n",
       "    <tr>\n",
       "      <th>406</th>\n",
       "      <td>0.0</td>\n",
       "      <td>0.0</td>\n",
       "      <td>0.0</td>\n",
       "      <td>92.5</td>\n",
       "      <td>65.714286</td>\n",
       "      <td>unclassified</td>\n",
       "    </tr>\n",
       "    <tr>\n",
       "      <th>407</th>\n",
       "      <td>0.0</td>\n",
       "      <td>15.0</td>\n",
       "      <td>0.0</td>\n",
       "      <td>70.0</td>\n",
       "      <td>90.000000</td>\n",
       "      <td>unclassified</td>\n",
       "    </tr>\n",
       "    <tr>\n",
       "      <th>408</th>\n",
       "      <td>0.0</td>\n",
       "      <td>70.0</td>\n",
       "      <td>0.0</td>\n",
       "      <td>92.5</td>\n",
       "      <td>95.000000</td>\n",
       "      <td>unclassified</td>\n",
       "    </tr>\n",
       "  </tbody>\n",
       "</table>\n",
       "<p>409 rows × 6 columns</p>\n",
       "</div>"
      ],
      "text/plain": [
       "      ck7  muc1  muc2  ca19_9      smad4                        cluster\n",
       "0    92.5  20.0   0.0    92.5  80.000000  extrahepatic pancreatobiliary\n",
       "1    92.5  37.5   6.0    92.5  60.000000  extrahepatic pancreatobiliary\n",
       "2     5.0  30.0   0.0    92.5  95.000000  extrahepatic pancreatobiliary\n",
       "3    70.0  92.5  20.0    92.5  85.000000  extrahepatic pancreatobiliary\n",
       "4    92.5  70.0   0.0    92.5  85.000000  extrahepatic pancreatobiliary\n",
       "..    ...   ...   ...     ...        ...                            ...\n",
       "404  40.0  15.0   0.0    80.0  85.000000                   unclassified\n",
       "405  92.5  92.5   0.0    20.0   0.000000                   unclassified\n",
       "406   0.0   0.0   0.0    92.5  65.714286                   unclassified\n",
       "407   0.0  15.0   0.0    70.0  90.000000                   unclassified\n",
       "408   0.0  70.0   0.0    92.5  95.000000                   unclassified\n",
       "\n",
       "[409 rows x 6 columns]"
      ]
     },
     "execution_count": 61,
     "metadata": {},
     "output_type": "execute_result"
    }
   ],
   "source": [
    "#made a pandas dataframe\n",
    "pd_df = pd.DataFrame(df, columns = ['ck7', 'muc1', 'muc2', 'ca19_9', 'smad4', 'cluster'])\n",
    "pd_df\n"
   ]
  },
  {
   "cell_type": "code",
   "execution_count": 63,
   "metadata": {},
   "outputs": [
    {
     "data": {
      "text/plain": [
       "<pandas.core.groupby.generic.DataFrameGroupBy object at 0x7fa85715df10>"
      ]
     },
     "execution_count": 63,
     "metadata": {},
     "output_type": "execute_result"
    }
   ],
   "source": [
    "#grouped by cluster\n",
    "group_df = pd_df.groupby('cluster')\n",
    "group_df"
   ]
  },
  {
   "cell_type": "code",
   "execution_count": 92,
   "metadata": {},
   "outputs": [],
   "source": [
    "#finally figured out how to plot averages of a group\n",
    "#df.groupby(\"cluster\")['ck7'].mean().plot(kind='bar')\n"
   ]
  },
  {
   "cell_type": "code",
   "execution_count": 91,
   "metadata": {},
   "outputs": [
    {
     "data": {
      "text/plain": [
       "Text(0, 0.5, '% of tumors')"
      ]
     },
     "execution_count": 91,
     "metadata": {},
     "output_type": "execute_result"
    },
    {
     "data": {
      "image/png": "[encoded data removed]",
      "text/plain": [
       "<Figure size 720x576 with 1 Axes>"
      ]
     },
     "metadata": {
      "needs_background": "light"
     },
     "output_type": "display_data"
    }
   ],
   "source": [
    "#Here is my plotted data for Q3!\n",
    "# plot data\n",
    "df.groupby(['cluster']).mean().plot(kind= 'bar', figsize=(10,8))\n",
    "plt.xlabel(\"IHC cluster\")\n",
    "plt.ylabel(\"% of tumors\")\n",
    "#plt.savefig('images/kmckenna_capstone_Q3.PDF')"
   ]
  },
  {
   "cell_type": "code",
   "execution_count": null,
   "metadata": {},
   "outputs": [],
   "source": []
  }
 ],
 "metadata": {
  "kernelspec": {
   "display_name": "Python 3",
   "language": "python",
   "name": "python3"
  },
  "language_info": {
   "codemirror_mode": {
    "name": "ipython",
    "version": 3
   },
   "file_extension": ".py",
   "mimetype": "text/x-python",
   "name": "python",
   "nbconvert_exporter": "python",
   "pygments_lexer": "ipython3",
   "version": "3.8.3"
  }
 },
 "nbformat": 4,
 "nbformat_minor": 4
}
