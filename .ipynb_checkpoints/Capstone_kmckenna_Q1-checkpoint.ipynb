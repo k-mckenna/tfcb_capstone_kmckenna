{
 "cells": [
  {
   "cell_type": "markdown",
   "metadata": {},
   "source": [
    "# This is my phython notebook for the capstone project. "
   ]
  },
  {
   "cell_type": "markdown",
   "metadata": {},
   "source": [
    "Question 1: How good is anatomical diagnosis compared to IHC"
   ]
  },
  {
   "cell_type": "code",
   "execution_count": 51,
   "metadata": {},
   "outputs": [
    {
     "name": "stdout",
     "output_type": "stream",
     "text": [
      "<class 'pandas.core.frame.DataFrame'>\n",
      "RangeIndex: 409 entries, 0 to 408\n",
      "Data columns (total 30 columns):\n",
      " #   Column     Non-Null Count  Dtype  \n",
      "---  ------     --------------  -----  \n",
      " 0   ck5        409 non-null    float64\n",
      " 1   ck7        409 non-null    float64\n",
      " 2   ck17       409 non-null    float64\n",
      " 3   ck18       409 non-null    float64\n",
      " 4   ck19       409 non-null    float64\n",
      " 5   ck20       409 non-null    float64\n",
      " 6   vim        409 non-null    float64\n",
      " 7   muc1       409 non-null    float64\n",
      " 8   muc2       409 non-null    float64\n",
      " 9   muc5ac     409 non-null    float64\n",
      " 10  muc6       409 non-null    float64\n",
      " 11  berep4     409 non-null    float64\n",
      " 12  ema        409 non-null    float64\n",
      " 13  mcea       409 non-null    float64\n",
      " 14  pcea       409 non-null    float64\n",
      " 15  ca125      409 non-null    float64\n",
      " 16  ca19.9     409 non-null    float64\n",
      " 17  maspin     409 non-null    float64\n",
      " 18  wt1cyt     409 non-null    float64\n",
      " 19  cdx2       409 non-null    float64\n",
      " 20  p53        409 non-null    float64\n",
      " 21  p63        409 non-null    float64\n",
      " 22  ki67       409 non-null    float64\n",
      " 23  smad4      409 non-null    float64\n",
      " 24  chra       409 non-null    float64\n",
      " 25  cd56       409 non-null    float64\n",
      " 26  cd10       409 non-null    float64\n",
      " 27  clin_diag  409 non-null    object \n",
      " 28  cluster    409 non-null    object \n",
      " 29  pad        409 non-null    object \n",
      "dtypes: float64(27), object(3)\n",
      "memory usage: 96.0+ KB\n",
      "There are 30 columns and 409 rows and 2 dimensions\n"
     ]
    }
   ],
   "source": [
    "%matplotlib inline\n",
    "import matplotlib.pyplot as plt # for plotting\n",
    "import pandas as pd # pandas\n",
    "\n",
    "datafile = 'data/kmckenna_clustered.csv'\n",
    "\n",
    "df = pd.read_csv(datafile) \n",
    "\n",
    "df.info()\n",
    "df\n",
    "print(f\"There are {len(df.columns)} columns and {len(df.index)} rows and {df.ndim} dimensions\")"
   ]
  },
  {
   "cell_type": "code",
   "execution_count": 49,
   "metadata": {},
   "outputs": [
    {
     "ename": "TypeError",
     "evalue": "string indices must be integers",
     "output_type": "error",
     "traceback": [
      "\u001b[0;31m---------------------------------------------------------------------------\u001b[0m",
      "\u001b[0;31mTypeError\u001b[0m                                 Traceback (most recent call last)",
      "\u001b[0;32m<ipython-input-49-bca477c84613>\u001b[0m in \u001b[0;36m<module>\u001b[0;34m\u001b[0m\n\u001b[0;32m----> 1\u001b[0;31m \u001b[0mset_of_diag\u001b[0m \u001b[0;34m=\u001b[0m \u001b[0mset\u001b[0m\u001b[0;34m(\u001b[0m \u001b[0mdatafile\u001b[0m\u001b[0;34m[\u001b[0m\u001b[0;34m'clin_diag'\u001b[0m\u001b[0;34m]\u001b[0m \u001b[0;34m)\u001b[0m \u001b[0;31m# get rid of duplicates in the species column\u001b[0m\u001b[0;34m\u001b[0m\u001b[0;34m\u001b[0m\u001b[0m\n\u001b[0m\u001b[1;32m      2\u001b[0m \u001b[0;34m\u001b[0m\u001b[0m\n\u001b[1;32m      3\u001b[0m \u001b[0mdiag_dict\u001b[0m \u001b[0;34m=\u001b[0m \u001b[0;34m{\u001b[0m\u001b[0;34m}\u001b[0m\u001b[0;34m\u001b[0m\u001b[0;34m\u001b[0m\u001b[0m\n\u001b[1;32m      4\u001b[0m \u001b[0;34m\u001b[0m\u001b[0m\n\u001b[1;32m      5\u001b[0m \u001b[0;31m# zip is a useful builtin function that takes two lists/sets/sequences and\u001b[0m\u001b[0;34m\u001b[0m\u001b[0;34m\u001b[0m\u001b[0;34m\u001b[0m\u001b[0m\n",
      "\u001b[0;31mTypeError\u001b[0m: string indices must be integers"
     ]
    }
   ],
   "source": [
    "set_of_diag = set( datafile['clin_diag'] ) # get rid of duplicates in the species column\n",
    "\n",
    "diag_dict = {}\n",
    "\n",
    "# zip is a useful builtin function that takes two lists/sets/sequences and \n",
    "#  lets you loop over them at the same time\n",
    "# Note how since we are looping over a pair of zipped lists we have two variables after for\n",
    "#\n",
    "# also note that I am sorting the set_of_species to get a consistent (alphabetical) ordering\n",
    "#for species, color in zip( sorted(set_of_species), 'rgb' ):\n",
    "for diagnosis, number in zip( set_of_diag, '1234567' ):\n",
    "    print(clin_diag, number)\n",
    "    diag_dict[ clin_diag ] = number\n",
    "    \n",
    "print(diag_dict)\n",
    "\n"
   ]
  },
  {
   "cell_type": "code",
   "execution_count": 46,
   "metadata": {},
   "outputs": [
    {
     "data": {
      "text/plain": [
       "Text(0, 0.5, 'PCA2')"
      ]
     },
     "execution_count": 46,
     "metadata": {},
     "output_type": "execute_result"
    },
    {
     "data": {
      "image/png": "[encoded data removed]",
      "text/plain": [
       "<Figure size 1008x576 with 1 Axes>"
      ]
     },
     "metadata": {
      "needs_background": "light"
     },
     "output_type": "display_data"
    }
   ],
   "source": [
    "from sklearn.decomposition import PCA\n",
    "from sklearn.preprocessing import StandardScaler\n",
    "nrows=1\n",
    "ncols=2\n",
    "plt.figure(figsize=(14,8))\n",
    "pca = PCA(n_components=7)\n",
    "pca.fit(df)\n",
    "X_pca = pca.transform(df)\n",
    "plt.scatter(X_pca[:,0], X_pca[:,1])\n",
    "\n",
    "scaler = StandardScaler()\n",
    "scaler.fit( df )\n",
    "X_df_scaled = scaler.transform( df )\n",
    "pca2 = PCA(n_components=27)\n",
    "pca2.fit(X_df_scaled)\n",
    "plt.xlabel('PCA1')\n",
    "plt.ylabel('PCA2')\n",
    "X_pca2 = pca2.transform( X_df_scaled )\n",
    "\n",
    "plt.subplot(nrows, ncols, 2)\n",
    "plt.scatter( X_pca2[:,0], X_pca2[:,1])\n",
    "plt.title('scaled')\n",
    "plt.xlabel('PCA1')\n",
    "plt.ylabel('PCA2')\n"
   ]
  },
  {
   "cell_type": "code",
   "execution_count": null,
   "metadata": {},
   "outputs": [],
   "source": []
  }
 ],
 "metadata": {
  "kernelspec": {
   "display_name": "Python 3",
   "language": "python",
   "name": "python3"
  },
  "language_info": {
   "codemirror_mode": {
    "name": "ipython",
    "version": 3
   },
   "file_extension": ".py",
   "mimetype": "text/x-python",
   "name": "python",
   "nbconvert_exporter": "python",
   "pygments_lexer": "ipython3",
   "version": "3.8.3"
  }
 },
 "nbformat": 4,
 "nbformat_minor": 4
}
